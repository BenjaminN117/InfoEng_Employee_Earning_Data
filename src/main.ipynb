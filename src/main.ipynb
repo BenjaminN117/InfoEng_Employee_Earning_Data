{
 "cells": [
  {
   "cell_type": "markdown",
   "metadata": {},
   "source": [
    "Question: How do the salaries for Senior, Junior and Janitor (bottom three) job positions compare over different industries "
   ]
  },
  {
   "cell_type": "code",
   "execution_count": 3,
   "metadata": {},
   "outputs": [],
   "source": [
    "import numpy as np\n",
    "import pandas as pd\n",
    "import matplotlib.pyplot as plt"
   ]
  },
  {
   "cell_type": "markdown",
   "metadata": {},
   "source": [
    "Import the two csv files and merge them together"
   ]
  },
  {
   "cell_type": "code",
   "execution_count": 4,
   "metadata": {},
   "outputs": [],
   "source": [
    "\n",
    "df1 = pd.read_csv(\"./dataset/batch1_jobID_00A32TE.csv\")\n",
    "df2 = pd.read_csv(\"./dataset/batch2_jobID_00B80TR.csv\")\n",
    "        \n",
    "df = pd.concat([df1, df2])"
   ]
  },
  {
   "cell_type": "markdown",
   "metadata": {},
   "source": [
    "Cleaning the dataframe"
   ]
  },
  {
   "cell_type": "markdown",
   "metadata": {},
   "source": [
    "Shows if there are any missing values in the dataframe. As shown some of the salary values are missing. Removing them could later influence other queries so the data is copied into a subset dataframe and then removed from that. The unwanted columns (degree, major and milesFromMetropolis) are also removed."
   ]
  },
  {
   "cell_type": "code",
   "execution_count": null,
   "metadata": {},
   "outputs": [],
   "source": [
    "\n",
    "# Checks for missing values in the df\n",
    "print(df.isnull().sum())        \n",
    "\n",
    "# Removes the companyId row from the dataframe\n",
    "del df[\"companyId\"]\n",
    "\n",
    "## Creates a subset dataframe ##\n",
    "\n",
    "# Remove rows that have no salary information\n",
    "df_subset_Nnull = df.loc[df[\"salary\"].notnull()]\n",
    "# Remove the 'degree', 'major' and milesFromMetropolis columns\n",
    "del df_subset_Nnull['degree'], df_subset_Nnull[\"major\"], df_subset_Nnull[\"milesFromMetropolis\"]\n",
    "   "
   ]
  },
  {
   "cell_type": "markdown",
   "metadata": {},
   "source": [
    "Condensing the data"
   ]
  },
  {
   "cell_type": "markdown",
   "metadata": {},
   "source": [
    "All of the Industries and Jobs in the dataframe are first added to lists. There are not duplicate pieces of data, however there are multiple entries for the same job and industry, this makes it harder for Matplotlib to interpret so all of these common values are averaged out and added to a new subset dataframe called df_subset_final."
   ]
  },
  {
   "cell_type": "code",
   "execution_count": 6,
   "metadata": {},
   "outputs": [],
   "source": [
    "# Add the Industries and Job types to a list\n",
    "listOfIndustries = df_subset_Nnull.industry.unique()\n",
    "listOfJobs = df_subset_Nnull.jobType.unique()\n",
    "# Create a blank subset dataframe while using the headers from the main subset\n",
    "df_subset_final = df_subset_Nnull[0:0] \n",
    "## Average out all of the job types and industries so their is only one entry for each and apply that to df_subset_final ##\n",
    "for industry in listOfIndustries:\n",
    "    for job in listOfJobs:\n",
    "        # Add all of the rows to a dataframe that contain the same industry and job\n",
    "        df_subset_temp = df_subset_Nnull.loc[(df_subset_Nnull[\"jobType\"] == job) & (df_subset_Nnull[\"industry\"] == industry)]\n",
    "        # Average the salary and years experience and add it to another data frame\n",
    "        df_subset_final = df_subset_final.append({'jobType':job, 'industry':industry, 'yearsExperience':round(df_subset_temp[\"yearsExperience\"].mean(), 1), 'salary':round(df_subset_temp[\"salary\"].mean(), 1)}, ignore_index=True)\n",
    "        # Empty the temporary dataframe before the next iteration\n",
    "        df_subset_temp = df_subset_temp[0:0]"
   ]
  },
  {
   "cell_type": "markdown",
   "metadata": {},
   "source": [
    "Graphing the data"
   ]
  },
  {
   "cell_type": "markdown",
   "metadata": {},
   "source": [
    "This creates a bar chart for that shows the salary for the Senior, Junior and Janitor positions for each industry. seniorSalary, juniorSalary and janitorSalary query the subset dataframe and store the values for the Matplotlib bar chart to display them."
   ]
  },
  {
   "cell_type": "code",
   "execution_count": null,
   "metadata": {},
   "outputs": [],
   "source": [
    "seniorSalary = df_subset_final[df_subset_final['jobType'] == \"SENIOR\"]['salary']\n",
    "juniorSalary = df_subset_final[df_subset_final['jobType'] == \"JUNIOR\"]['salary']\n",
    "janitorSalary = df_subset_final[df_subset_final['jobType'] == \"JANITOR\"]['salary']\n",
    "\n",
    "\n",
    "x = np.arange(len(listOfIndustries))\n",
    "width = 0.25\n",
    "\n",
    "fig, ax = plt.subplots()\n",
    "\n",
    "bar1= ax.bar(x, seniorSalary, width, label='SENIOR')\n",
    "bar2= ax.bar(x + width, juniorSalary, width, label='JUNIOR')\n",
    "bar3= ax.bar(x + width*2, janitorSalary, width, label='JANITOR')\n",
    "\n",
    "# Labels and legends\n",
    "ax.set_xticks(x+width, listOfIndustries)\n",
    "ax.set_xticklabels(listOfIndustries)\n",
    "ax.legend()\n",
    "\n",
    "plt.xlabel(\"Industry\")\n",
    "plt.ylabel(\"Salary\")    \n",
    "\n",
    "plt.show()"
   ]
  }
 ],
 "metadata": {
  "kernelspec": {
   "display_name": "Python 3.8.5 64-bit",
   "language": "python",
   "name": "python3"
  },
  "language_info": {
   "codemirror_mode": {
    "name": "ipython",
    "version": 3
   },
   "file_extension": ".py",
   "mimetype": "text/x-python",
   "name": "python",
   "nbconvert_exporter": "python",
   "pygments_lexer": "ipython3",
   "version": "3.8.5"
  },
  "orig_nbformat": 4,
  "vscode": {
   "interpreter": {
    "hash": "aee8b7b246df8f9039afb4144a1f6fd8d2ca17a180786b69acc140d282b71a49"
   }
  }
 },
 "nbformat": 4,
 "nbformat_minor": 2
}
